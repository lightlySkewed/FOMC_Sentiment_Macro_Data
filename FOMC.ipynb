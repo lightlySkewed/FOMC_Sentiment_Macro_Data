{
 "cells": [
  {
   "cell_type": "code",
   "execution_count": 1,
   "metadata": {},
   "outputs": [],
   "source": [
    "%config Completer.use_jedi = False #for intellisense compatibility w/ Jupyter Notebook\n",
    "\n",
    "import pandas as pd\n",
    "import numpy as np\n",
    "import datetime as dt\n",
    "import matplotlib.pyplot as plt\n",
    "\n",
    "from alfredhelperfile import find_growth_gap, find_price_growth, find_vintage_percent_chg"
   ]
  },
  {
   "cell_type": "markdown",
   "metadata": {},
   "source": [
    "Read in FOMC Meeting Dates"
   ]
  },
  {
   "cell_type": "code",
   "execution_count": 15,
   "metadata": {},
   "outputs": [
    {
     "data": {
      "text/html": [
       "<div>\n",
       "<style scoped>\n",
       "    .dataframe tbody tr th:only-of-type {\n",
       "        vertical-align: middle;\n",
       "    }\n",
       "\n",
       "    .dataframe tbody tr th {\n",
       "        vertical-align: top;\n",
       "    }\n",
       "\n",
       "    .dataframe thead th {\n",
       "        text-align: right;\n",
       "    }\n",
       "</style>\n",
       "<table border=\"1\" class=\"dataframe\">\n",
       "  <thead>\n",
       "    <tr style=\"text-align: right;\">\n",
       "      <th></th>\n",
       "    </tr>\n",
       "    <tr>\n",
       "      <th>observation_date</th>\n",
       "    </tr>\n",
       "  </thead>\n",
       "  <tbody>\n",
       "    <tr>\n",
       "      <th>2007-01-31</th>\n",
       "    </tr>\n",
       "    <tr>\n",
       "      <th>2007-03-21</th>\n",
       "    </tr>\n",
       "    <tr>\n",
       "      <th>2007-05-09</th>\n",
       "    </tr>\n",
       "    <tr>\n",
       "      <th>2007-06-28</th>\n",
       "    </tr>\n",
       "    <tr>\n",
       "      <th>2007-08-07</th>\n",
       "    </tr>\n",
       "    <tr>\n",
       "      <th>2007-08-10</th>\n",
       "    </tr>\n",
       "    <tr>\n",
       "      <th>2007-08-16</th>\n",
       "    </tr>\n",
       "    <tr>\n",
       "      <th>2007-09-18</th>\n",
       "    </tr>\n",
       "    <tr>\n",
       "      <th>2007-10-31</th>\n",
       "    </tr>\n",
       "    <tr>\n",
       "      <th>2007-12-11</th>\n",
       "    </tr>\n",
       "  </tbody>\n",
       "</table>\n",
       "</div>"
      ],
      "text/plain": [
       "Empty DataFrame\n",
       "Columns: []\n",
       "Index: [2007-01-31 00:00:00, 2007-03-21 00:00:00, 2007-05-09 00:00:00, 2007-06-28 00:00:00, 2007-08-07 00:00:00, 2007-08-10 00:00:00, 2007-08-16 00:00:00, 2007-09-18 00:00:00, 2007-10-31 00:00:00, 2007-12-11 00:00:00]"
      ]
     },
     "execution_count": 15,
     "metadata": {},
     "output_type": "execute_result"
    }
   ],
   "source": [
    "# read in FOMC meeting dates from author's file\n",
    "df = pd.read_csv('Input_Data/fomc_dates.csv')\n",
    "\n",
    "# create list of FOMC meetings\n",
    "FOMC_meets = df['fomc_date'].tolist()\n",
    "\n",
    "# cast list items to datetime objects for functions (probably could have just passed df to f(n)s)\n",
    "FOMC_dates = [dt.datetime.strptime(meet,'%m/%d/%Y') for meet in FOMC_meets]\n",
    "\n",
    "# create df of FOMC meeting dates\n",
    "FOMC_df = pd.DataFrame(index=FOMC_meets)\n",
    "\n",
    "# cast the index to datetime\n",
    "FOMC_df.index = pd.to_datetime(FOMC_df.index)\n",
    "\n",
    "# set the name of the index for future merge\n",
    "FOMC_df.index.name = 'observation_date'\n",
    "\n",
    "FOMC_df.loc['2007-01-01':'2007-12-31']"
   ]
  },
  {
   "cell_type": "markdown",
   "metadata": {},
   "source": [
    "Read in Philly Fed Forecast Dates"
   ]
  },
  {
   "cell_type": "code",
   "execution_count": 3,
   "metadata": {},
   "outputs": [
    {
     "name": "stdout",
     "output_type": "stream",
     "text": [
      "      Survey True Deadline Date News Release Date\n",
      "0    1990 Q2           8/23/90*          8/31/90*\n",
      "1         Q3            8/23/90           8/31/90\n",
      "2         Q4           11/22/90          11/28/90\n",
      "3    1991 Q1            2/16/91           2/21/91\n",
      "4         Q2            5/18/91           5/24/91\n",
      "5         Q3            8/18/91           8/21/91\n",
      "6         Q4           11/16/91          11/21/91\n",
      "7    1992 Q1            2/22/92           2/26/92\n",
      "8         Q2            5/15/92           5/22/92\n",
      "9         Q3            8/21/92           8/27/92\n",
      "10        Q4           11/20/92          11/30/92\n",
      "11   1993 Q1            2/19/93            3/1/93\n",
      "12        Q2            5/20/93            6/1/93\n",
      "13        Q3            8/19/93           8/30/93\n",
      "14        Q4           11/23/93          11/29/93\n",
      "15   1994 Q1            2/21/94           2/28/94\n",
      "16        Q2            5/18/94           5/25/94\n",
      "17        Q3            8/18/94           8/24/94\n",
      "18        Q4           11/18/94          11/28/94\n",
      "19   1995 Q1            2/21/95           2/24/95\n",
      "20        Q2            5/22/95           5/26/95\n",
      "21        Q3            8/22/95           8/25/95\n",
      "22        Q4           11/20/95          11/27/95\n",
      "23   1996 Q1           3/2/96**         3/11/96**\n",
      "24        Q2            5/18/96           5/24/96\n",
      "25        Q3            8/21/96           8/27/96\n",
      "26        Q4           11/18/96          11/26/96\n",
      "27   1997 Q1            2/19/97           2/26/97\n",
      "28        Q2            5/17/97           5/28/97\n",
      "29        Q3            8/16/97           8/26/97\n",
      "30        Q4           11/19/97          11/24/97\n",
      "31   1998 Q1            2/18/98           2/23/98\n",
      "32        Q2            5/16/98           5/22/98\n",
      "33        Q3            8/15/98           8/21/98\n",
      "34        Q4           11/14/98          11/20/98\n",
      "35   1999 Q1            2/16/99           2/22/99\n",
      "36        Q2            5/15/99           5/21/99\n",
      "37        Q3            8/14/99           8/23/99\n",
      "38        Q4           11/13/99          11/19/99\n",
      "39   2000 Q1            2/12/00           2/22/00\n",
      "40        Q2            5/13/00           5/22/00\n",
      "41        Q3            8/12/00           8/21/00\n",
      "42        Q4           11/11/00          11/20/00\n",
      "43   2001 Q1            2/14/01           2/20/01\n",
      "44        Q2            5/12/01           5/21/01\n",
      "45        Q3            8/15/01           8/23/01\n",
      "46        Q4           11/14/01          11/20/01\n",
      "47   2002 Q1            2/12/02           2/22/02\n",
      "48        Q2            5/13/02           5/21/02\n",
      "49        Q3            8/14/02           8/22/02\n",
      "50        Q4           11/13/02          11/22/02\n",
      "51   2003 Q1            2/14/03           2/24/03\n",
      "52        Q2            5/12/03           5/20/03\n",
      "53        Q3            8/16/03           8/22/03\n",
      "54        Q4           11/14/03          11/24/03\n",
      "55   2004 Q1            2/14/04           2/23/04\n",
      "56        Q2            5/14/04           5/24/04\n",
      "57        Q3            8/13/04           8/20/04\n",
      "58        Q4           11/13/04          11/22/04\n",
      "59   2005 Q1             2/9/05           2/14/05\n",
      "60        Q2            5/12/05           5/16/05\n",
      "61        Q3            8/11/05           8/15/05\n",
      "62        Q4            11/8/05          11/14/05\n",
      "63   2006 Q1             2/8/06           2/13/06\n",
      "64        Q2            5/10/06           5/15/06\n",
      "65        Q3             8/9/06           8/14/06\n",
      "66        Q4            11/8/06          11/13/06\n",
      "67   2007 Q1             2/8/07           2/13/07\n",
      "68        Q2             5/9/07           5/14/07\n",
      "69        Q3             8/8/07           8/14/07\n",
      "70        Q4            11/7/07          11/13/07\n",
      "71   2008 Q1             2/7/08           2/12/08\n",
      "72        Q2             5/8/08           5/13/08\n",
      "73        Q3             8/7/08           8/12/08\n",
      "74        Q4           11/10/08          11/17/08\n",
      "75   2009 Q1            2/10/09           2/13/09\n",
      "76        Q2            5/12/09           5/15/09\n",
      "77        Q3            8/11/09           8/14/09\n",
      "78        Q4           11/10/09          11/16/09\n",
      "79   2010 Q1             2/9/10           2/12/10\n",
      "80        Q2            5/11/10           5/14/10\n",
      "81        Q3            8/10/10           8/13/10\n",
      "82        Q4            11/9/10          11/15/10\n",
      "83   2011 Q1             2/8/11           2/11/11\n",
      "84        Q2            5/10/11           5/13/11\n",
      "85        Q3             8/8/11           8/12/11\n",
      "86        Q4            11/8/11          11/14/11\n",
      "87   2012 Q1             2/7/12           2/10/12\n",
      "88        Q2             5/8/12           5/11/12\n",
      "89        Q3             8/7/12           8/10/12\n",
      "90        Q4            11/6/12           11/9/12\n",
      "91   2013 Q1            2/11/13           2/15/13\n",
      "92        Q2             5/7/13           5/10/13\n",
      "93        Q3            8/12/13           8/16/13\n",
      "94        Q4         11/18/13**        11/25/13**\n",
      "95   2014 Q1            2/10/14           2/14/14\n",
      "96        Q2            5/11/14           5/16/14\n",
      "97        Q3            8/11/14           8/15/14\n",
      "98        Q4           11/10/14          11/17/14\n",
      "99   2015 Q1            2/10/15           2/13/15\n",
      "100       Q2            5/12/15           5/15/15\n",
      "101       Q3            8/11/15           8/14/15\n",
      "102       Q4           11/10/15          11/13/15\n",
      "103  2016 Q1             2/9/16           2/12/16\n",
      "104       Q2            5/10/16           5/13/16\n",
      "105       Q3             8/9/16           8/12/16\n",
      "106       Q4            11/8/16          11/14/16\n",
      "107  2017 Q1             2/7/17           2/10/17\n",
      "108       Q2             5/9/17           5/12/17\n",
      "109       Q3             8/8/17           8/11/17\n",
      "110       Q4            11/7/17          11/13/17\n",
      "111  2018 Q1             2/6/18            2/9/18\n",
      "112       Q2             5/8/18           5/11/18\n",
      "113       Q3             8/7/18           8/10/18\n",
      "114       Q4            11/6/18          11/13/18\n",
      "115  2019 Q1          3/12/19**         3/22/19**\n",
      "116       Q2             5/7/19           5/10/19\n",
      "117       Q3             8/6/19            8/9/19\n",
      "118       Q4           11/11/19          11/15/19\n",
      "119  2020 Q1            2/11/20           2/14/20\n",
      "120       Q2            5/12/20           5/15/20\n",
      "121       Q3            8/12/20           8/14/20\n",
      "122       Q4           11/10/20          11/16/20\n",
      "123  2021 Q1             2/9/21           2/12/21\n",
      "124       Q2            5/12/21           5/14/21\n",
      "125       Q3            8/10/21           8/13/21\n"
     ]
    },
    {
     "name": "stderr",
     "output_type": "stream",
     "text": [
      "C:\\Users\\micha\\miniconda3\\envs\\FOMC\\lib\\site-packages\\openpyxl\\worksheet\\header_footer.py:48: UserWarning: Cannot parse header or footer so it will be ignored\n",
      "  warn(\"\"\"Cannot parse header or footer so it will be ignored\"\"\")\n"
     ]
    }
   ],
   "source": [
    "# URL: https://www.philadelphiafed.org/-/media/frbp/assets/surveys-and-data/survey-of-professional-forecasters/spf-release-dates.txt?la=en&hash=B0031909EE9FFE77B26E57AC5FB39899\n",
    "# Note: Download used for this file was 9/10/2021\n",
    "\n",
    "# read in Philly Fed Real GDP in levels\n",
    "df = pd.read_excel(io='Input_Data/Median_RGDP_Level.xlsx', sheet_name='Median_Level') #read in data\n",
    "\n",
    "# read in Philly Fed release dates\n",
    "philly_dates_df = pd.read_csv('Input_Data/spf-release-dates.txt', engine='python', skiprows=3, skipfooter=7, skip_blank_lines=True, sep=\"[ \\t]{2,}\")\n",
    "\n",
    "# philly_dates_df.to_csv('Input_Data/poof2.csv')\n",
    "\n",
    "# philly_dates_df.reset_index(inplace=True)\n",
    "\n",
    "# philly_dates_df.rename(columns=lambda x: x.strip(), inplace=True)\n",
    "\n",
    "# philly_dates = philly_dates_df['News Release Date'].str.replace('*', '').to_frame()\n",
    "\n",
    "# philly_dates = philly_dates[38:123]\n",
    "\n",
    "print(philly_dates_df.to_string())"
   ]
  },
  {
   "cell_type": "markdown",
   "metadata": {},
   "source": [
    "Read in and Format Vintage Real GDP Data from ALFRED File"
   ]
  },
  {
   "cell_type": "code",
   "execution_count": 179,
   "metadata": {},
   "outputs": [],
   "source": [
    "# URL: https://alfred.stlouisfed.org/series/downloaddata?seid=GDPC1\n",
    "# Note: Must select 'All' in the Vintage Dates section. Data as of 1/28/2021\n",
    "\n",
    "# read in ALFRED data\n",
    "df = pd.read_csv('Input_Data/GDPC1_2_Vintages_Starting_1991_12_04.txt', sep='\\t', na_values='.')\n",
    "\n",
    "# set index to observation date\n",
    "df.set_index('observation_date', inplace=True)\n",
    "\n",
    "# set df index to datetime\n",
    "df.index = pd.to_datetime(df.index)\n",
    "\n",
    "# drop any remaining columns with no observations\n",
    "df = df.dropna(how='all', axis=1)\n",
    "\n",
    "# calculate vintage percent changes with helper function\n",
    "FOMC_gdp_hist = find_vintage_percent_chg(df, FOMC_dates, column_A_name='lg', column_B_name='g')"
   ]
  },
  {
   "cell_type": "markdown",
   "metadata": {},
   "source": [
    "Read in and Format Median Real GDP Forecast Data from FRB Philadelphia"
   ]
  },
  {
   "cell_type": "code",
   "execution_count": 242,
   "metadata": {},
   "outputs": [],
   "source": [
    "# URL: https://www.philadelphiafed.org/surveys-and-data/rgdp\n",
    "# Note: 'Median Responses' as of 1/10/2021\n",
    "\n",
    "# read in Philly Fed Real GDP in levels\n",
    "df = pd.read_excel(io='Input_Data/Median_RGDP_Level.xlsx', sheet_name='Median_Level') #read in data\n",
    "\n",
    "# drop last col which shows up as NaT in index (not sure why this shows up...)\n",
    "df = df[df['YEAR'].notna()]\n",
    "\n",
    "# drop date before the 4th quarter of 1999\n",
    "df = df[124:]\n",
    "\n",
    "# set index to index of Philly data df. this is manually alligned by the authors\n",
    "# the alignment is done to push a quarterly 'release date' to the corresponding \n",
    "# observation quarter\n",
    "philly_dates = philly_dates.set_index(df.index)\n",
    "\n",
    "# set df index to philly fed period\n",
    "df = df.set_index(philly_dates['News Release Date'])\n",
    "\n",
    "# set df index to datetime\n",
    "df.index = pd.to_datetime(df.index)\n",
    "\n",
    "# calculate the one period ahead pct change from 1evels \n",
    "df['g1'] = df[['RGDP1', 'RGDP2']].apply(lambda row: (row.iloc[1]-row.iloc[0])/row.iloc[0]*100*4, axis=1)\n",
    "\n",
    "# calculate the two period ahead pct change from 1evels \n",
    "df['g2'] = df[['RGDP2', 'RGDP3']].apply(lambda row: (row.iloc[1]-row.iloc[0])/row.iloc[0]*100*4, axis=1)\n",
    "\n",
    "# identify columns to retain\n",
    "median_GDP_forecasts = ['g1', 'g2']\n",
    "\n",
    "# filter for wanted columns\n",
    "median_GDP_forecasts = df.filter(median_GDP_forecasts, axis=1)\n",
    "\n",
    "# set index to observation date\n",
    "median_GDP_forecasts.index.name = 'observation_date'\n",
    "\n",
    "median_GDP_forecasts.to_csv('Input_Data/poof.csv')\n",
    "\n",
    "# merge dataframes to retain observations on FOMC meeting dates\n",
    "# FOMC_gdp_forecast_median = pd.merge_asof(FOMC_df, median_GDP_forecasts, left_index = True, right_index = True)"
   ]
  },
  {
   "cell_type": "markdown",
   "metadata": {},
   "source": [
    "Read in and Format Vintage GDP Chain-Type Price Index Data from ALFRED File (Percent Change from a Year Ago)"
   ]
  },
  {
   "cell_type": "code",
   "execution_count": 6,
   "metadata": {},
   "outputs": [],
   "source": [
    "# URL: https://alfred.stlouisfed.org/series/downloaddata?seid=GDPCTPI\n",
    "# NOTE: Must select 'All' in the Vintage Dates section. Data as of 1/28/2021\n",
    "\n",
    "# read in ALFRED data\n",
    "df = pd.read_csv('Input_Data/GDPCTPI_2_Vintages_Starting_1996_01_19.txt', sep='\\t', na_values='.')\n",
    "\n",
    "# set index to observation date\n",
    "df.set_index('observation_date', inplace=True)\n",
    "\n",
    "# set df index to datetime\n",
    "df.index = pd.to_datetime(df.index)\n",
    "\n",
    "# drop any remaining columns with no observations\n",
    "df = df.dropna(how='all', axis=1)\n",
    "\n",
    "# calculate vintage percent change with helper function\n",
    "FOMC_price_hist = find_vintage_percent_chg(df, FOMC_dates, column_A_name='lp', column_B_name='p')"
   ]
  },
  {
   "cell_type": "markdown",
   "metadata": {},
   "source": [
    "Read in and Format GDP Price Percent Change (Growth) Forecast from Philly Fed"
   ]
  },
  {
   "cell_type": "code",
   "execution_count": 237,
   "metadata": {
    "scrolled": true
   },
   "outputs": [],
   "source": [
    "# URL: https://www.philadelphiafed.org/surveys-and-data/pgdp\n",
    "# Note: 'Median Responses' as of 1/12/2021\n",
    "\n",
    "#read in data\n",
    "df = pd.read_excel(io='Input_Data/Median_PGDP_Growth.xlsx', sheet_name='Median_Growth') #read in data\n",
    "\n",
    "# read in approximate Philly Fed release dates\n",
    "philly_dates = pd.read_csv('Input_Data/philly_release_dates.csv')\n",
    "\n",
    "# drop last col which shows up as NaT in index (not sure why this shows up...)\n",
    "df = df[df['YEAR'].notna()]\n",
    "\n",
    "# set length to correct Philly Fed release date length\n",
    "df = df[124:]\n",
    "\n",
    "# set index to index of Philly data df. this is manually alligned by the authors\n",
    "# the alignment is done to push a quarterly 'release date' to the corresponding \n",
    "# observation quarter\n",
    "philly_dates = philly_dates.set_index(df.index)\n",
    "\n",
    "# set df index to philly fed period\n",
    "df = df.set_index(philly_dates['Period'])\n",
    "\n",
    "# # set df index to datetime\n",
    "df.index = pd.to_datetime(df.index)\n",
    "\n",
    "# remove blank rows\n",
    "df = df[df['DPGDP2'].notna()]\n",
    "\n",
    "# rename columns\n",
    "df['p1'] = df['DPGDP2']\n",
    "df['p2'] = df['DPGDP3']\n",
    "\n",
    "# identify columns to retain\n",
    "median_price_forecasts = ['p1', 'p2']\n",
    "\n",
    "# filter for wanted columns\n",
    "median_price_forecasts = df.filter(median_price_forecasts, axis=1)\n",
    "\n",
    "# set index to observation date\n",
    "median_price_forecasts.index.name = 'observation_date'\n",
    "\n",
    "# merge dataframes to retain observations on FOMC meeting dates\n",
    "FOMC_price_forecast_median = pd.merge_asof(FOMC_df, median_price_forecasts, left_index = True, right_index = True)"
   ]
  },
  {
   "cell_type": "markdown",
   "metadata": {},
   "source": [
    "Read in and Format Vintage PCE Chain-Type Price Index Data from ALFRED File"
   ]
  },
  {
   "cell_type": "code",
   "execution_count": 8,
   "metadata": {},
   "outputs": [],
   "source": [
    "# URL: https://alfred.stlouisfed.org/\n",
    "# Note: Must select 'All' in the Vintage Dates section. \n",
    "# Data as of 2/8/2021\n",
    "\n",
    "# read in ALFRED data\n",
    "df = pd.read_csv('Input_Data/JCXFE_2_Vintages_Starting_1999_07_29.txt', sep='\\t', na_values='.')\n",
    "\n",
    "# set index to observation date\n",
    "df.set_index('observation_date', inplace=True)\n",
    "\n",
    "# set df index to datetime\n",
    "df.index = pd.to_datetime(df.index)\n",
    "\n",
    "# drop any remaining columns with no observations\n",
    "df = df.dropna(how='all', axis=1)\n",
    "\n",
    "# calculate vintage percent change with helper function\n",
    "FOMC_pce_hist = find_vintage_percent_chg(df, FOMC_dates, column_A_name='lp', column_B_name='p')"
   ]
  },
  {
   "cell_type": "markdown",
   "metadata": {},
   "source": [
    "Read in and Format Core PCE Median Forecast Data from Philly Fed"
   ]
  },
  {
   "cell_type": "code",
   "execution_count": 9,
   "metadata": {},
   "outputs": [
    {
     "name": "stderr",
     "output_type": "stream",
     "text": [
      "C:\\Users\\micha\\miniconda3\\envs\\FOMC\\lib\\site-packages\\openpyxl\\worksheet\\header_footer.py:48: UserWarning: Cannot parse header or footer so it will be ignored\n",
      "  warn(\"\"\"Cannot parse header or footer so it will be ignored\"\"\")\n"
     ]
    }
   ],
   "source": [
    "# URL: https://www.philadelphiafed.org/surveys-and-data/pgdp\n",
    "# Note: 'Median Responses' as of 1/12/2021\n",
    "\n",
    "# read in data from file\n",
    "df = pd.read_excel(io='Input_Data/Median_COREPCE_Level.xlsx', sheet_name='Median_Level') #read in data\n",
    "\n",
    "# read in approximate Philly Fed release dates\n",
    "philly_dates = pd.read_csv('Input_Data/philly_release_dates.csv')\n",
    "\n",
    "# drop last col which shows up as NaT in index (not sure why this shows up...)\n",
    "df = df[df['YEAR'].notna()]\n",
    "\n",
    "# set length to correct Philly Fed release date length\n",
    "df = df[124:]\n",
    "\n",
    "# set index to index of Philly data df. this is manually alligned by the authors\n",
    "# the alignment is done to push a quarterly 'release date' to the corresponding \n",
    "# observation quarter\n",
    "philly_dates = philly_dates.set_index(df.index)\n",
    "\n",
    "# set df index to philly fed period\n",
    "df = df.set_index(philly_dates['Period'])\n",
    "\n",
    "# set df index to datetime\n",
    "df.index = pd.to_datetime(df.index)\n",
    "\n",
    "# remove blank rows\n",
    "df = df[df['COREPCE1'].notna()]\n",
    "\n",
    "# rename columns\n",
    "df['p1'] = df['COREPCE2']\n",
    "df['p2'] = df['COREPCE3']\n",
    "\n",
    "# identify columns to retain\n",
    "median_pce_forecasts = ['p1', 'p2']\n",
    "\n",
    "# filter for wanted columns\n",
    "median_pce_forecasts = df.filter(median_pce_forecasts, axis=1)\n",
    "\n",
    "# set index to observation date\n",
    "median_pce_forecasts.index.name = 'observation_date'\n",
    "\n",
    "# merge dataframes to retain observations on FOMC meeting dates\n",
    "FOMC_pce_forecast_median = pd.merge_asof(FOMC_df, median_pce_forecasts, left_index = True, right_index = True)"
   ]
  },
  {
   "cell_type": "markdown",
   "metadata": {},
   "source": [
    "Join GDP Price Data with Core PCE Data When Available"
   ]
  },
  {
   "cell_type": "code",
   "execution_count": 10,
   "metadata": {},
   "outputs": [
    {
     "name": "stderr",
     "output_type": "stream",
     "text": [
      "C:\\Users\\micha\\miniconda3\\envs\\FOMC\\lib\\site-packages\\pandas\\core\\frame.py:4438: SettingWithCopyWarning: \n",
      "A value is trying to be set on a copy of a slice from a DataFrame\n",
      "\n",
      "See the caveats in the documentation: https://pandas.pydata.org/pandas-docs/stable/user_guide/indexing.html#returning-a-view-versus-a-copy\n",
      "  return super().rename(\n"
     ]
    }
   ],
   "source": [
    "# join historic and forecast gdp price data\n",
    "price_df = FOMC_price_hist.join(FOMC_price_forecast_median)\n",
    "\n",
    "# join historic and forecast pce data\n",
    "pce_df = FOMC_pce_hist.join(FOMC_pce_forecast_median)\n",
    "\n",
    "# slice gdp price data for pre 2007\n",
    "part1 = price_df[:'2007-01-31']\n",
    "\n",
    "# slice pce data for post 2007\n",
    "part2 = pce_df['2007-03-21':]\n",
    "\n",
    "# rename columns to conform to macro_df variables\n",
    "part1.rename(columns={\"pricel1\": \"lp\", \"price\": \"p\", \"pricef1med\": \"p1\", \"pricef2med\": \"p2\"},inplace = True)\n",
    "part2.rename(columns={\"pcel1\": \"lp\", \"pce\": \"p\", \"pcef1med\": \"p1\", \"pcef2med\": \"p2\"},inplace = True)\n",
    "\n",
    "# concat parts to single df\n",
    "FOMC_prices = pd.concat([part1, part2], axis=0)"
   ]
  },
  {
   "cell_type": "markdown",
   "metadata": {},
   "source": [
    "Read in and Format Vintage Core PCE Inflation Data -- for Taylor Regression"
   ]
  },
  {
   "cell_type": "code",
   "execution_count": 11,
   "metadata": {},
   "outputs": [],
   "source": [
    "# read in ALFRED data\n",
    "# https://alfred.stlouisfed.org/\n",
    "# data as of 3/5/2021\n",
    "\n",
    "# read in core cpi data from file\n",
    "df = pd.read_csv('Input_Data/PCEPILFE_2_Vintages_Starting_2000_08_01.txt', sep='\\t', na_values='.')\n",
    "\n",
    "# set index to observation date\n",
    "df.set_index('observation_date', inplace=True)\n",
    "\n",
    "# set df index to datetime\n",
    "df.index = pd.to_datetime(df.index)\n",
    "\n",
    "# drop any remaining columns with no observations\n",
    "df = df.dropna(how='all', axis=1)\n",
    "\n",
    "# calculate vintage percent changes with helper function\n",
    "FOMC_corepce_growth = find_price_growth(df, FOMC_dates[4:], column_A_name='corepce')"
   ]
  },
  {
   "cell_type": "markdown",
   "metadata": {},
   "source": [
    "Calculate Output Gap from Real GDP and Trend Growth -- for Taylor Regression"
   ]
  },
  {
   "cell_type": "code",
   "execution_count": 12,
   "metadata": {},
   "outputs": [],
   "source": [
    "# read in ALFRED data\n",
    "# https://alfred.stlouisfed.org/\n",
    "# data as of 2/10/2021\n",
    "\n",
    "# read in real gdp data from file\n",
    "df1 = pd.read_csv('Input_Data/GDPC1_2_Vintages_Starting_1991_12_04.txt', sep='\\t', na_values='.')\n",
    "\n",
    "# set index to observation date\n",
    "df1.set_index('observation_date', inplace=True)\n",
    "\n",
    "# trim dataframe\n",
    "df1 = df1['1959-07-01':]\n",
    "# df1 = df1['1980-01-01':]\n",
    "\n",
    "# remove bad benchmark year\n",
    "# should build this into the find growt f(n). do this if publishing. \n",
    "# Check if I wrote this into the gap function...\n",
    "df1 = df1.drop('GDPC1_19991028', axis = 1)\n",
    "\n",
    "# drop any remaining columns with no observations\n",
    "df1 = df1.dropna(how='all', axis=1)\n",
    "\n",
    "# calculate vintage growth gap with helper function\n",
    "FOMC_gdp_gap = find_growth_gap(df1, FOMC_dates, column_C_name = 'gdpgap')"
   ]
  },
  {
   "cell_type": "markdown",
   "metadata": {},
   "source": [
    "Read in and Format FOMC Target Data from Author's Calculations Based on ALFRED Data"
   ]
  },
  {
   "cell_type": "code",
   "execution_count": 13,
   "metadata": {},
   "outputs": [],
   "source": [
    "# to save time, this work was imported from a previous calculation. we should rebuild here if published\n",
    "df = pd.read_csv('Input_Data/fomc_rates.csv', index_col=0)\n",
    "\n",
    "# name index for future merge\n",
    "df.index.name = 'observation_date'\n",
    "\n",
    "# set the index to datetime\n",
    "df.index = pd.to_datetime(df.index)\n",
    "\n",
    "# drop any remaining columns with no observations\n",
    "df = df.dropna(how='all', axis=0)\n",
    "\n",
    "# name dataframe for join\n",
    "FOMC_target_hist = df"
   ]
  },
  {
   "cell_type": "markdown",
   "metadata": {},
   "source": [
    "Combine Macro Data from ALFRED, FRED, & Philly Fed"
   ]
  },
  {
   "cell_type": "code",
   "execution_count": 14,
   "metadata": {},
   "outputs": [],
   "source": [
    "macro_df = FOMC_gdp_hist.join([FOMC_gdp_forecast_median, FOMC_prices, FOMC_corepce_growth, FOMC_gdp_gap, FOMC_target_hist])\n",
    "macro_df.index.names = ['date']\n",
    "macro_df.to_csv('Output_Data/macro_df.csv')"
   ]
  },
  {
   "cell_type": "code",
   "execution_count": null,
   "metadata": {},
   "outputs": [],
   "source": []
  }
 ],
 "metadata": {
  "kernelspec": {
   "display_name": "Python 3",
   "language": "python",
   "name": "python3"
  },
  "language_info": {
   "codemirror_mode": {
    "name": "ipython",
    "version": 3
   },
   "file_extension": ".py",
   "mimetype": "text/x-python",
   "name": "python",
   "nbconvert_exporter": "python",
   "pygments_lexer": "ipython3",
   "version": "3.8.5"
  }
 },
 "nbformat": 4,
 "nbformat_minor": 4
}
